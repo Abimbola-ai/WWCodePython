{
  "nbformat": 4,
  "nbformat_minor": 0,
  "metadata": {
    "colab": {
      "name": "Intro_to_Data_Structures_with_Python_Graphs.ipynb",
      "provenance": [],
      "collapsed_sections": []
    },
    "kernelspec": {
      "name": "python3",
      "display_name": "Python 3"
    },
    "language_info": {
      "name": "python"
    }
  },
  "cells": [
    {
      "cell_type": "markdown",
      "metadata": {
        "id": "7QfRFpXCTnbX",
        "cell_id": "00000-2ed44aa3-f3cf-4d01-9ac6-c91d15c63973",
        "deepnote_cell_type": "markdown"
      },
      "source": [
        "# Intro to Data Structures with Python: Graphs"
      ]
    },
    {
      "cell_type": "markdown",
      "metadata": {
        "id": "vdBW00qXTtzx",
        "cell_id": "00001-8b9a9a6a-8167-4f08-b90d-c7939b50f04f",
        "is_code_hidden": false,
        "deepnote_cell_type": "markdown"
      },
      "source": [
        "## Agenda:\n",
        "* Implementations\n",
        "    * Adjacency List\n",
        "    * Adjacency Matrix\n",
        "* Traversals\n",
        "    * Breadth-First Search\n",
        "    * Depth-First Search"
      ]
    },
    {
      "cell_type": "markdown",
      "metadata": {
        "id": "wpRNgp9nTzg4",
        "cell_id": "00002-db2f3fd8-fc26-4630-84c8-b9ead86dd1de",
        "deepnote_cell_type": "markdown"
      },
      "source": [
        "---"
      ]
    },
    {
      "cell_type": "markdown",
      "metadata": {
        "id": "-5Ya0UGlT5oj",
        "cell_id": "00003-db96adec-4222-4db1-9466-c4045febac81",
        "deepnote_cell_type": "markdown"
      },
      "source": [
        "## Implementations"
      ]
    },
    {
      "cell_type": "markdown",
      "metadata": {
        "cell_id": "00003-db96adec-4222-4db1-9466-c4045febac81",
        "deepnote_cell_type": "markdown",
        "id": "tw-W90Ia5dZs"
      },
      "source": [
        "### Adjacency List"
      ]
    },
    {
      "cell_type": "code",
      "metadata": {
        "id": "-48nSZ2X5h3O"
      },
      "source": [
        "graph = {'A': set(['B', 'C']),\n",
        "         'B': set(['A', 'D', 'E']),\n",
        "         'C': set(['A', 'F']),\n",
        "         'D': set(['B']),\n",
        "         'E': set(['B', 'F']),\n",
        "         'F': set(['C', 'E'])}"
      ],
      "execution_count": null,
      "outputs": []
    },
    {
      "cell_type": "markdown",
      "metadata": {
        "id": "ZezJrkP55lj8"
      },
      "source": [
        "Dictionary of vertices and its edges: Sufficient representation of a graph\n",
        "\n"
      ]
    },
    {
      "cell_type": "markdown",
      "metadata": {
        "id": "y9PLCabm5sjf"
      },
      "source": [
        "### Adjacency Matrix"
      ]
    },
    {
      "cell_type": "code",
      "metadata": {
        "id": "8vVcLnDo6NJR"
      },
      "source": [
        "mat = [[0, 1, 0, 1, 1, 0], [1, 0, ...], [...], [...]]"
      ],
      "execution_count": null,
      "outputs": []
    },
    {
      "cell_type": "markdown",
      "metadata": {
        "id": "FD5x7B7a6SPj"
      },
      "source": [
        "Use nested lists!"
      ]
    },
    {
      "cell_type": "markdown",
      "metadata": {
        "id": "-J24VJ8n6VYm"
      },
      "source": [
        "## Traversals"
      ]
    },
    {
      "cell_type": "markdown",
      "metadata": {
        "id": "zVAtveMv9gLz"
      },
      "source": [
        "#ㅤㅤㅤA <br>\n",
        "#ㅤㅤ↙ㅤ↘ <br>\n",
        "#ㅤㅤBㅤㅤC <br>\n",
        "#ㅤ↙ㅤ↘ㅤㅤ↘ <br>\n",
        "#ㅤDㅤㅤ Eㅤ→ㅤF"
      ]
    },
    {
      "cell_type": "markdown",
      "metadata": {
        "id": "iw-3gSjI6XX9"
      },
      "source": [
        "### Breadth-First Search"
      ]
    },
    {
      "cell_type": "code",
      "metadata": {
        "colab": {
          "base_uri": "https://localhost:8080/"
        },
        "id": "3d1bjQuK6hGe",
        "outputId": "04b6ee0b-bfce-4a90-87e9-3947f8718916"
      },
      "source": [
        "# Adjacency list\n",
        "graph = {\n",
        "  'A' : ['B','C'],\n",
        "  'B' : ['D', 'E'],\n",
        "  'C' : ['F'],\n",
        "  'D' : [],\n",
        "  'E' : ['F'],\n",
        "  'F' : []\n",
        "}\n",
        "\n",
        "# The Algorithm\n",
        "# 1. Pick any node, visit the adjacent unvisited vertex, mark it as visited, display it, and insert it in a queue.\n",
        "# 2. If there are no remaining adjacent vertices left, remove the first vertex from the queue.\n",
        "# 3. Repeat step 1 and step 2 until the queue is empty or the desired node is found.\n",
        "\n",
        "visited = [] # Keep track of visited vertices\n",
        "queue = []   # Keep track of vertices for BFS\n",
        "\n",
        "def bfs(visited, graph, vertex):\n",
        "  \"\"\"\n",
        "  Prints vertices in bfs order\n",
        "  \n",
        "  :param param1: visited - Visited list\n",
        "  :param param2: graph - Graph in the form of dictionary\n",
        "  :param param2: vertex - Starting vertex\n",
        "  \"\"\"\n",
        "  visited.append(vertex)\n",
        "  queue.append(vertex)\n",
        "\n",
        "  while queue:\n",
        "    vertex = queue.pop(0) # Pop vertex at the first index (first vertex from the queue)\n",
        "    print(vertex)\n",
        "\n",
        "    # Continue to the neighbors\n",
        "    for neighbor in graph[vertex]:\n",
        "      if neighbor not in visited:\n",
        "        visited.append(neighbor)\n",
        "        queue.append(neighbor)\n",
        "\n",
        "bfs(visited, graph, 'C')"
      ],
      "execution_count": null,
      "outputs": [
        {
          "output_type": "stream",
          "text": [
            "C\n",
            "F\n"
          ],
          "name": "stdout"
        }
      ]
    },
    {
      "cell_type": "markdown",
      "metadata": {
        "id": "DR6SgdgM7uq8"
      },
      "source": [
        "### Depth-First Search"
      ]
    },
    {
      "cell_type": "code",
      "metadata": {
        "colab": {
          "base_uri": "https://localhost:8080/"
        },
        "id": "hJkEUXql7wkP",
        "outputId": "beece2ab-a3ab-4867-f7cb-2b98e201bfb0"
      },
      "source": [
        "# Adjacency list\n",
        "graph = {\n",
        "    'A' : ['B','C'],\n",
        "    'B' : ['D', 'E'],\n",
        "    'C' : ['F'],\n",
        "    'D' : [],\n",
        "    'E' : ['F'],\n",
        "    'F' : []\n",
        "}\n",
        "\n",
        "# The Algorithm\n",
        "# 1. Pick any node. If it is unvisited, mark it as visited and recur on all its adjacent nodes.\n",
        "# 2. Repeat until all the nodes are visited, or the node to be searched is found.\n",
        "\n",
        "visited = set() # Set to keep track of visited vertices\n",
        "\n",
        "def dfs(visited, graph, vertex):\n",
        "    \"\"\"\n",
        "    Prints vertices \n",
        "\n",
        "    :param param1: visited - Visited set\n",
        "    :param param2: graph - Graph in the form of dictionary\n",
        "    :param param3: vertex - Starting vertex\n",
        "    \"\"\"\n",
        "    if vertex not in visited:\n",
        "      visited.add(vertex)\n",
        "      print(vertex)\n",
        "\n",
        "      for neighbor in graph[vertex]:\n",
        "        if neighbor not in visited:\n",
        "          dfs(visited, graph, neighbor)\n",
        "    \n",
        "dfs(visited, graph, 'A')"
      ],
      "execution_count": null,
      "outputs": [
        {
          "output_type": "stream",
          "text": [
            "A\n",
            "B\n",
            "D\n",
            "E\n",
            "F\n",
            "C\n"
          ],
          "name": "stdout"
        }
      ]
    },
    {
      "cell_type": "markdown",
      "metadata": {
        "id": "hzF40CgP74uj"
      },
      "source": [
        "## Resources\n",
        "1. [Python Patterns - Implementing Graphs\n",
        "](https://www.python.org/doc/essays/graphs/)\n",
        "2. [Graph Data Structure And Algorithms\n",
        "](https://www.geeksforgeeks.org/graph-data-structure-and-algorithms/)\n",
        "3. [Using the Graph Data Structure in Python\n",
        "](https://www.section.io/engineering-education/graph-data-structure-python/)\n",
        "4. [GRAPH DATA STRUCTURE](https://www.bogotobogo.com/python/python_graph_data_structures.php)\n",
        "5. [https://www.programiz.com/dsa/graph](https://www.programiz.com/dsa/graph)"
      ]
    }
  ]
}