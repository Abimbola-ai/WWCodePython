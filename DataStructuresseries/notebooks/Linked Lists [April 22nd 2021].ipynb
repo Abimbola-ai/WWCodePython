{
  "nbformat": 4,
  "nbformat_minor": 0,
  "metadata": {
    "colab": {
      "name": "Session #5: Data Structures Series (Women Who Code Python).ipynb",
      "provenance": []
    },
    "kernelspec": {
      "name": "python3",
      "display_name": "Python 3"
    },
    "language_info": {
      "name": "python"
    }
  },
  "cells": [
    {
      "cell_type": "markdown",
      "metadata": {
        "id": "7QfRFpXCTnbX"
      },
      "source": [
        "# Intro to Data Structures: Ace the Technical Interview\n",
        "\n",
        "## Session 5: Linked Lists"
      ]
    },
    {
      "cell_type": "markdown",
      "metadata": {
        "id": "vdBW00qXTtzx"
      },
      "source": [
        "### Agenda for Today:\n",
        "\n",
        "\n",
        "*   Singly Linked Lists\n",
        "*   Insertion\n",
        "*   Deletion\n",
        "*   Practice Question: Reverse a Linked List\n",
        "\n"
      ]
    },
    {
      "cell_type": "markdown",
      "metadata": {
        "id": "wpRNgp9nTzg4"
      },
      "source": [
        "\n",
        "\n",
        "---\n",
        "\n",
        "\n",
        "\n",
        "---\n",
        "\n"
      ]
    },
    {
      "cell_type": "markdown",
      "metadata": {
        "id": "-5Ya0UGlT5oj"
      },
      "source": [
        "#### Singly Linked Lists:"
      ]
    },
    {
      "cell_type": "code",
      "metadata": {
        "id": "Ksaw5SLzTSMO"
      },
      "source": [
        "# Create a Class(a template) to represent an Element or Node of a Linked List\n",
        "\n",
        "class Node:\n",
        "  def __init__(self,data=None):\n",
        "    self.data = data        # stores the value of the element/node\n",
        "    self.next = None        # stores a reference/pointer to the next node"
      ],
      "execution_count": null,
      "outputs": []
    },
    {
      "cell_type": "code",
      "metadata": {
        "id": "HB5gZevX3Rn8"
      },
      "source": [
        "# Create a Class(a template) to represent a Singly Linked List\n",
        "# Add a function to traverse the List and Print it\n",
        "\n",
        "class SinglyLinkedList:\n",
        "  def __init__(self):\n",
        "    self.head = None\n",
        "    self.length = 0\n",
        "  \n",
        "  def printList(self):\n",
        "    ptr = self.head               # storing the pointer/reference to the HEAD\n",
        "    while ptr is not None:        # continue the loop while the pointer isn't NULL\n",
        "      print(ptr.data,end=' -> ')  # print the pointer\n",
        "      ptr=ptr.next                # the pointer is updated to point to the next node\n",
        "    print('NULL')                 # finally print NULL at the end of the list"
      ],
      "execution_count": null,
      "outputs": []
    },
    {
      "cell_type": "code",
      "metadata": {
        "colab": {
          "base_uri": "https://localhost:8080/"
        },
        "id": "J68KFPYJCqGb",
        "outputId": "967bb629-99f6-464c-e7b1-5fe24424df27"
      },
      "source": [
        "linkedlist = SinglyLinkedList()       # create an 'instace' of the class\n",
        "linkedlist.printList()                # call the printList() function"
      ],
      "execution_count": null,
      "outputs": [
        {
          "output_type": "stream",
          "text": [
            "NULL\n"
          ],
          "name": "stdout"
        }
      ]
    },
    {
      "cell_type": "code",
      "metadata": {
        "colab": {
          "base_uri": "https://localhost:8080/"
        },
        "id": "VdCXr2PxC1Mw",
        "outputId": "4f0bbe95-fecf-4404-8668-a6a221980fe8"
      },
      "source": [
        "# create a node that holds the value 5\n",
        "# this node is stored as the head of the linked list\n",
        "\n",
        "linkedlist.head = Node(5)             \n",
        "linkedlist.printList()"
      ],
      "execution_count": null,
      "outputs": [
        {
          "output_type": "stream",
          "text": [
            "5 -> NULL\n"
          ],
          "name": "stdout"
        }
      ]
    },
    {
      "cell_type": "markdown",
      "metadata": {
        "id": "BKxG6wjOT-Bb"
      },
      "source": [
        "\n",
        "\n",
        "---\n",
        "\n",
        "\n",
        "\n",
        "---\n",
        "\n"
      ]
    },
    {
      "cell_type": "markdown",
      "metadata": {
        "id": "13EoG-b1T_k8"
      },
      "source": [
        "#### Insertion:"
      ]
    },
    {
      "cell_type": "code",
      "metadata": {
        "id": "GS14mvtxAsdT"
      },
      "source": [
        "class SinglyLinkedList:\n",
        "  def __init__(self):\n",
        "    self.head = None\n",
        "    self.length = 0\n",
        "\n",
        "  def insertBeginning(self,data):\n",
        "    # this function allows the user to insert a node\n",
        "    # at the beginning of the linked list\n",
        "\n",
        "    # create a new node as an instance of the class Node\n",
        "    new_node = Node(data)\n",
        "\n",
        "    # point the new node to the Head of the linked list\n",
        "    new_node.next = self.head\n",
        "\n",
        "    # make the new node the Head of the linked list\n",
        "    self.head = new_node\n",
        "\n",
        "    # increment the length of the list(not mandatory)\n",
        "    self.length+=1\n",
        "\n",
        "  def insertEnd(self,data):\n",
        "    # this function allows the user to insert a node\n",
        "    # at the end of the linked list\n",
        "\n",
        "    # create a new node as an object of the class Node\n",
        "    new_node = Node(data)\n",
        "\n",
        "    # create a pointer to the Head of the linked list\n",
        "    ptr = self.head\n",
        "\n",
        "    # traverse to the last element of the linked list\n",
        "    # we traverse until the next node is NULL\n",
        "    while ptr.next is not None:\n",
        "      ptr = ptr.next\n",
        "    \n",
        "    # point the last element of the linked list to the new node\n",
        "    ptr.next = new_node\n",
        "\n",
        "    # increment the length of the linked list(not mandatory)\n",
        "    self.length +=1\n",
        "\n",
        "  def insertAtPosition(self,data,position):\n",
        "    # this function allows the user to insert a node\n",
        "    # at the end of the linked list\n",
        "    \n",
        "    # create a new node as an object of the class Node\n",
        "    new_node = Node(data)\n",
        "\n",
        "    # create a pointer to the Head of the linked list\n",
        "    ptr = self.head\n",
        "\n",
        "    # initialize the count to 1 (head)\n",
        "    count = 1\n",
        "\n",
        "    # traverse the linked list until we're at the\n",
        "    # node previous to our target position\n",
        "    while count<(position-1):\n",
        "      ptr = ptr.next\n",
        "      count+=1\n",
        "    \n",
        "    # point the new node to the current node's next\n",
        "    new_node.next = ptr.next\n",
        "\n",
        "    # point the current node to the new node\n",
        "    ptr.next = new_node\n",
        "    \n",
        "    # increment the length of the linked list(not mandatory)\n",
        "    self.length +=1\n",
        "  \n",
        "  def printList(self):\n",
        "    ptr = self.head\n",
        "    while ptr is not None:\n",
        "      print(ptr.data,end=' -> ')\n",
        "      ptr=ptr.next\n",
        "    print('NULL')"
      ],
      "execution_count": null,
      "outputs": []
    },
    {
      "cell_type": "code",
      "metadata": {
        "id": "_zu-ZUGhT-mg",
        "colab": {
          "base_uri": "https://localhost:8080/"
        },
        "outputId": "bfeabd9f-510e-49a2-f43f-1398ecacb380"
      },
      "source": [
        "# create an instance of the Linked List\n",
        "linkedlist = SinglyLinkedList()\n",
        "\n",
        "# insert a value at the beginning\n",
        "linkedlist.insertBeginning(5)    \n",
        "\n",
        "# print the linked list\n",
        "linkedlist.printList()               "
      ],
      "execution_count": null,
      "outputs": [
        {
          "output_type": "stream",
          "text": [
            "5 -> NULL\n"
          ],
          "name": "stdout"
        }
      ]
    },
    {
      "cell_type": "code",
      "metadata": {
        "colab": {
          "base_uri": "https://localhost:8080/"
        },
        "id": "Dcuc-CfHBL16",
        "outputId": "954354e5-8c92-4bef-f213-49096161f8a5"
      },
      "source": [
        "# add a few values to the end of the linked list\n",
        "linkedlist.insertEnd(4)\n",
        "linkedlist.insertEnd(3)\n",
        "linkedlist.insertEnd(1)\n",
        "\n",
        "# print the linked list\n",
        "linkedlist.printList()"
      ],
      "execution_count": null,
      "outputs": [
        {
          "output_type": "stream",
          "text": [
            "5 -> 4 -> 3 -> 1 -> NULL\n"
          ],
          "name": "stdout"
        }
      ]
    },
    {
      "cell_type": "code",
      "metadata": {
        "colab": {
          "base_uri": "https://localhost:8080/"
        },
        "id": "Fk04tFNKBPu-",
        "outputId": "11e04c9e-b26e-47ef-e42e-7ef99b6d6d61"
      },
      "source": [
        "# insert the value 2 at position 4\n",
        "\n",
        "linkedlist.insertAtPosition(2,4)\n",
        "linkedlist.printList()"
      ],
      "execution_count": null,
      "outputs": [
        {
          "output_type": "stream",
          "text": [
            "5 -> 4 -> 3 -> 2 -> 1 -> NULL\n"
          ],
          "name": "stdout"
        }
      ]
    },
    {
      "cell_type": "markdown",
      "metadata": {
        "id": "KG0Ru0MjUChz"
      },
      "source": [
        "\n",
        "\n",
        "---\n",
        "\n",
        "\n",
        "\n",
        "---\n",
        "\n"
      ]
    },
    {
      "cell_type": "markdown",
      "metadata": {
        "id": "7oMRijHDAyix"
      },
      "source": [
        "### Deletion:"
      ]
    },
    {
      "cell_type": "code",
      "metadata": {
        "id": "Ph4CYw_GA38v"
      },
      "source": [
        "class SinglyLinkedList:\n",
        "  def __init__(self):\n",
        "    self.head = None\n",
        "    self.length = 0\n",
        "   \n",
        "  def printList(self):\n",
        "    ptr = self.head\n",
        "    while ptr is not None:\n",
        "      print(ptr.data,end=' -> ')\n",
        "      ptr=ptr.next\n",
        "    print('NULL')\n",
        "\n",
        "  def insertBeginning(self,data):\n",
        "    new_node = Node(data)\n",
        "    new_node.next = self.head\n",
        "    self.head = new_node\n",
        "    self.length+=1\n",
        "\n",
        "  def insertEnd(self,data):\n",
        "    new_node = Node(data)\n",
        "    ptr = self.head\n",
        "    while ptr.next is not None:\n",
        "      ptr = ptr.next\n",
        "    ptr.next = new_node\n",
        "    self.length +=1\n",
        "\n",
        "  def insertAtPosition(self,data,position):\n",
        "    new_node = Node(data)\n",
        "    ptr = self.head\n",
        "    count = 1\n",
        "    while count<(position-1):\n",
        "      ptr = ptr.next\n",
        "      count+=1\n",
        "    new_node.next = ptr.next\n",
        "    ptr.next = new_node\n",
        "    self.length+=1\n",
        "\n",
        "  def deleteNodeValue(self,value):\n",
        "    # this function deletes the first node that matches the given value\n",
        "\n",
        "    # create a pointer to the Head of the linked list\n",
        "    ptr = self.head\n",
        "\n",
        "    # traverse the linked list till \n",
        "    # the next node's value is the given value\n",
        "    while (ptr.next is not None) and (ptr.next.data!=value):\n",
        "      ptr = ptr.next\n",
        "\n",
        "    # checks if the next element contains the value\n",
        "    # this is necessary to check because the given value may not be in the list\n",
        "    if ptr.next.data==value:\n",
        "      ptr.next = ptr.next.next\n",
        "\n",
        "      # decrement the length of the linked list (not mandatory)\n",
        "      self.length -= 1\n",
        "\n",
        "  def deleteNodeatPosition(self,position):\n",
        "    # this function deletes the node at the given position\n",
        "\n",
        "    # create a pointer to the Head of the linked list\n",
        "    ptr = self.head\n",
        "\n",
        "    # initialize counter to 1\n",
        "    count = 1\n",
        "\n",
        "    # traverse the linked list till we reach the node\n",
        "    # that comes before the one we need to delete\n",
        "    while count<(position-1):\n",
        "      ptr = ptr.next\n",
        "      count+=1\n",
        "\n",
        "    # check if we're at the node that's before the one we need to delete\n",
        "    if count == (position-1):\n",
        "      # point the current node's next to the \n",
        "      # next of the next node\n",
        "      ptr.next = ptr.next.next\n",
        "      self.length-=1\n"
      ],
      "execution_count": null,
      "outputs": []
    },
    {
      "cell_type": "code",
      "metadata": {
        "id": "7UFTBBbGCRZm",
        "colab": {
          "base_uri": "https://localhost:8080/"
        },
        "outputId": "a165cb5e-247c-4cac-bad5-9e0fe0e60edc"
      },
      "source": [
        "# create an instance of the Linked List\n",
        "linkedlist = SinglyLinkedList()\n",
        "\n",
        "# insert few elements into the Linked List\n",
        "linkedlist.insertBeginning(5)\n",
        "linkedlist.insertEnd(4)\n",
        "linkedlist.insertEnd(3)\n",
        "linkedlist.insertEnd(20)\n",
        "linkedlist.insertEnd(2)\n",
        "linkedlist.insertEnd(1)\n",
        "\n",
        "# print the Linked List\n",
        "linkedlist.printList()"
      ],
      "execution_count": null,
      "outputs": [
        {
          "output_type": "stream",
          "text": [
            "5 -> 4 -> 3 -> 20 -> 2 -> 1 -> NULL\n"
          ],
          "name": "stdout"
        }
      ]
    },
    {
      "cell_type": "code",
      "metadata": {
        "id": "goX0K0VbBIc4",
        "colab": {
          "base_uri": "https://localhost:8080/"
        },
        "outputId": "cb9f23fa-d4ef-46a4-b5fc-6610bac6abee"
      },
      "source": [
        "# delete an element by giving its position\n",
        "linkedlist.deleteNodeatPosition(4)\n",
        "\n",
        "# print the linked list\n",
        "linkedlist.printList()"
      ],
      "execution_count": null,
      "outputs": [
        {
          "output_type": "stream",
          "text": [
            "5 -> 4 -> 3 -> 2 -> 1 -> NULL\n"
          ],
          "name": "stdout"
        }
      ]
    },
    {
      "cell_type": "code",
      "metadata": {
        "colab": {
          "base_uri": "https://localhost:8080/"
        },
        "id": "QvrL_ztH7Klg",
        "outputId": "0ffaea01-7c71-457c-e79c-a3c5a22fbfbf"
      },
      "source": [
        "# delete a node by its value\n",
        "linkedlist.deleteNodeValue(2)\n",
        "\n",
        "# print the linked list\n",
        "linkedlist.printList()"
      ],
      "execution_count": null,
      "outputs": [
        {
          "output_type": "stream",
          "text": [
            "5 -> 4 -> 3 -> 1 -> NULL\n"
          ],
          "name": "stdout"
        }
      ]
    },
    {
      "cell_type": "markdown",
      "metadata": {
        "id": "p0ow6GaxEGI_"
      },
      "source": [
        "\n",
        "\n",
        "---\n",
        "\n",
        "\n",
        "\n",
        "---\n",
        "\n"
      ]
    },
    {
      "cell_type": "markdown",
      "metadata": {
        "id": "ARrtPuWPEI13"
      },
      "source": [
        "### Practice Question: Reversing a Linked List"
      ]
    },
    {
      "cell_type": "code",
      "metadata": {
        "id": "rex5BmaFGs1c"
      },
      "source": [
        "# The task is to reverse a Singly Linked List\n",
        "# Points to remember:\n",
        "#     * We can access the Linked List through the HEAD\n",
        "#     * Each node has a pointer only to the next node"
      ],
      "execution_count": null,
      "outputs": []
    },
    {
      "cell_type": "code",
      "metadata": {
        "id": "O1pFTjMRHcUM"
      },
      "source": [
        "'''\n",
        "prev=NULL\n",
        "\n",
        "        5 -> 4 -> 3 -> 2 -> 1 -> NULL\n",
        "   Head ^\n",
        "Current ^\n",
        "\n",
        "\n",
        "Iteration 1:\n",
        "\n",
        "  \n",
        "        5 -> 4 -> 3 -> 2 -> 1 -> NULL\n",
        "Current ^\n",
        "      Next   ^\n",
        "\n",
        "\n",
        "Previous <- 5    4 -> 3 -> 2 -> 1 -> NULL\n",
        "    Current ^\n",
        "         Next    ^\n",
        "\n",
        "\n",
        "  NULL <- 5    4 -> 3 -> 2 -> 1 -> NULL\n",
        " Previous ^\n",
        "          Next ^\n",
        "       Current ^   \n",
        "\n",
        "'''\n",
        "\n",
        "\n",
        "'''\n",
        "NULL <- 5     4 -> 3 -> 2 -> 1 -> NULL\n",
        "Previous^\n",
        "              Next ^\n",
        "      Current ^\n",
        "\n",
        "NULL <- 5 <- 4   3 -> 2 -> 1 -> NULL\n",
        "Previous^\n",
        "              Next ^\n",
        "      Current ^\n",
        "\n",
        "NULL <- 5 <- 4   3 -> 2 -> 1 -> NULL\n",
        "    Previous^\n",
        "            Next ^\n",
        "   Current ^\n",
        "\n",
        "NULL <- 5 <- 4   3 -> 2 -> 1 -> NULL\n",
        "    Previous^\n",
        "            Next ^\n",
        "         Current ^\n",
        "'''\n",
        "\n",
        "\n",
        "# previous = Null\n",
        "# current = head\n",
        "\n",
        "# Loop Starts\n",
        "\n",
        "# next = current.next\n",
        "# current.next = previous\n",
        "# previous = current\n",
        "# current = next\n",
        "\n",
        "# Loop ends \n",
        "\n",
        "# head = previous"
      ],
      "execution_count": null,
      "outputs": []
    },
    {
      "cell_type": "markdown",
      "metadata": {
        "id": "I8QM3ohZrYZ6"
      },
      "source": [
        "<img src =\"https://media.geeksforgeeks.org/wp-content/cdn-uploads/RGIF2.gif\" height=\"400px\">"
      ]
    },
    {
      "cell_type": "code",
      "metadata": {
        "id": "dtQ7iMBlGqGC"
      },
      "source": [
        "def reverse():\n",
        "    previous = None\n",
        "    current = self.head\n",
        "    while(current is not None):\n",
        "        next = current.next\n",
        "        current.next = previous\n",
        "        previous = current\n",
        "        current = next\n",
        "    self.head = previous"
      ],
      "execution_count": null,
      "outputs": []
    },
    {
      "cell_type": "code",
      "metadata": {
        "id": "lhisrO4GETIJ"
      },
      "source": [
        "class SinglyLinkedList:\n",
        "  def __init__(self):\n",
        "    self.head = None\n",
        "    self.length = 0\n",
        "   \n",
        "  def printList(self):\n",
        "    ptr = self.head\n",
        "    while(ptr):\n",
        "      print(ptr.data,end=' -> ')\n",
        "      ptr=ptr.next\n",
        "    print('NULL')\n",
        "\n",
        "  def insertBeginning(self,data):\n",
        "    new_node = Node(data)\n",
        "    new_node.next = self.head\n",
        "    self.head = new_node\n",
        "    self.length+=1\n",
        "\n",
        "  def reverse(self):\n",
        "    previous = None\n",
        "    current = self.head\n",
        "    while(current is not None):\n",
        "        next = current.next\n",
        "        current.next = previous\n",
        "        previous = current\n",
        "        current = next\n",
        "    self.head = previous"
      ],
      "execution_count": null,
      "outputs": []
    },
    {
      "cell_type": "code",
      "metadata": {
        "colab": {
          "base_uri": "https://localhost:8080/"
        },
        "id": "njIz65IKF8Bq",
        "outputId": "53f28c3c-d57f-4cfd-caa5-0da1f2d13dfa"
      },
      "source": [
        "linkedlist = SinglyLinkedList()\n",
        "linkedlist.insertBeginning(5)\n",
        "linkedlist.insertBeginning(4)\n",
        "linkedlist.insertBeginning(3)\n",
        "linkedlist.insertBeginning(2)\n",
        "linkedlist.insertBeginning(1)\n",
        "linkedlist.printList() "
      ],
      "execution_count": null,
      "outputs": [
        {
          "output_type": "stream",
          "text": [
            "1 -> 2 -> 3 -> 4 -> 5 -> NULL\n"
          ],
          "name": "stdout"
        }
      ]
    },
    {
      "cell_type": "code",
      "metadata": {
        "colab": {
          "base_uri": "https://localhost:8080/"
        },
        "id": "uyk62TNeJpDD",
        "outputId": "e3b6315e-43f2-4482-c3a5-1f329310ac90"
      },
      "source": [
        "linkedlist.reverse()\n",
        "linkedlist.printList()"
      ],
      "execution_count": null,
      "outputs": [
        {
          "output_type": "stream",
          "text": [
            "5 -> 4 -> 3 -> 2 -> 1 -> NULL\n"
          ],
          "name": "stdout"
        }
      ]
    },
    {
      "cell_type": "markdown",
      "metadata": {
        "id": "PafeVhR_UHdz"
      },
      "source": [
        "#### Interview Questions & Further Reading:"
      ]
    },
    {
      "cell_type": "markdown",
      "metadata": {
        "id": "N9x8d-KfUL3D"
      },
      "source": [
        "\n",
        "\n",
        "1.   [Detect a loop in linked list](https://leetcode.com/problems/linked-list-cycle/)\n",
        "2.   [Find the middle element of a Linked List](https://leetcode.com/problems/middle-of-the-linked-list/)\n",
        "3.   [Check if the Linked List is a palindrome](https://leetcode.com/problems/palindrome-linked-list/)\n",
        "\n",
        "\n"
      ]
    }
  ]
}