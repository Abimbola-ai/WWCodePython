{
  "nbformat": 4,
  "nbformat_minor": 0,
  "metadata": {
    "colab": {
      "name": "Intro_to_Data_Structures_with_Python_Heaps.ipynb",
      "provenance": [],
      "collapsed_sections": []
    },
    "kernelspec": {
      "name": "python3",
      "display_name": "Python 3"
    },
    "language_info": {
      "name": "python"
    },
    "deepnote_notebook_id": "f9b68050-7539-4299-807c-8fa26577fa4e",
    "deepnote": {},
    "deepnote_execution_queue": []
  },
  "cells": [
    {
      "cell_type": "markdown",
      "metadata": {
        "id": "7QfRFpXCTnbX",
        "cell_id": "00000-2ed44aa3-f3cf-4d01-9ac6-c91d15c63973",
        "deepnote_cell_type": "markdown"
      },
      "source": [
        "# Intro to Data Structures with Python: Heaps"
      ]
    },
    {
      "cell_type": "markdown",
      "metadata": {
        "id": "vdBW00qXTtzx",
        "cell_id": "00001-8b9a9a6a-8167-4f08-b90d-c7939b50f04f",
        "is_code_hidden": false,
        "deepnote_cell_type": "markdown"
      },
      "source": [
        "## Agenda:\n",
        "* Implementations\n",
        "    * Priority Queue\n",
        "    * Heap methods:\n",
        "        * <code>heapify</code>\n",
        "        * <code>up_heap</code>\n",
        "        * <code>swap</code>"
      ]
    },
    {
      "cell_type": "markdown",
      "metadata": {
        "id": "wpRNgp9nTzg4",
        "cell_id": "00002-db2f3fd8-fc26-4630-84c8-b9ead86dd1de",
        "deepnote_cell_type": "markdown"
      },
      "source": [
        "---"
      ]
    },
    {
      "cell_type": "markdown",
      "metadata": {
        "id": "-5Ya0UGlT5oj",
        "cell_id": "00003-db96adec-4222-4db1-9466-c4045febac81",
        "deepnote_cell_type": "markdown"
      },
      "source": [
        "## Priority Queue"
      ]
    },
    {
      "cell_type": "markdown",
      "metadata": {
        "id": "iQH6VmKnETXk",
        "cell_id": "00004-96ee7157-2ba1-4307-9d47-a58429829141",
        "deepnote_cell_type": "markdown"
      },
      "source": [
        "* Priority queue “owns” a heap as instance variable\n",
        "* We use heap operations on the heap object to implement all priority queue operations."
      ]
    },
    {
      "cell_type": "code",
      "metadata": {
        "id": "6M9dBOZ5D5oN",
        "cell_id": "00005-61c76393-b27a-4de2-872f-3dc2d08c1747",
        "deepnote_cell_type": "code"
      },
      "source": [
        "from Heap import Heap\n",
        "\n",
        "class PriorityQueue: # Comments indicate what methods the Heap class must have\n",
        "    def __init__(self):\n",
        "        self.queue_heap = Heap()\n",
        "\n",
        "    def insert(self, item):\n",
        "        \"\"\"Put a new item in the queue\"\"\"\n",
        "        self.queue_heap.insert(item) # insert\n",
        "\n",
        "    def get_max(self):\n",
        "        \"\"\"Return the max item in the queue\"\"\"\n",
        "        return self.queue_heap.get_max() # get_max\n",
        "\n",
        "    def remove_max(self):\n",
        "        \"\"\"Return and remove the max item from the queue\"\"\"\n",
        "        return self.queue_heap.remove_max() # remove_max\n",
        "\n",
        "    def get_size(self):\n",
        "        \"\"\"Return the size\"\"\"\n",
        "        return self.queue_heap.get_size() # get_size\n",
        "\n",
        "    def is_empty(self):\n",
        "        \"\"\"Return true if the queue is empty\"\"\"\n",
        "        return self.queue_heap.is_empty() # is_empty\n",
        "\n",
        "    def __str__(self):\n",
        "        return self.queue_heap.__str__() # __str__"
      ],
      "execution_count": null,
      "outputs": []
    },
    {
      "cell_type": "markdown",
      "metadata": {
        "id": "13EoG-b1T_k8",
        "cell_id": "00006-531851bf-e823-43b3-bbbd-9ce64d90ad52",
        "deepnote_cell_type": "markdown"
      },
      "source": [
        "### Therefore:"
      ]
    },
    {
      "cell_type": "markdown",
      "metadata": {
        "id": "JYViarAzFwL3",
        "cell_id": "00007-ced4ea0d-4363-48ab-ad06-5673e302f4b9",
        "deepnote_cell_type": "markdown"
      },
      "source": [
        "The complication is in implementing the Heap class.\n",
        "\n",
        "In addition to the methods whose names are in comments, we need three more:\n",
        "* <code>heapify</code>: Restore the max heap order property at a specified index i, working down recursively.\n",
        "* <code>up_heap</code>: Fix up relations between child and parent in order to restore heap ordering\n",
        "* <code>swap</code>: Given two index values, swap the items at those indices\n"
      ]
    },
    {
      "cell_type": "markdown",
      "metadata": {
        "tags": [],
        "cell_id": "00008-9a3f4213-800d-4356-946a-b9b628398e2c",
        "deepnote_cell_type": "markdown",
        "id": "P1hCduDA62kr"
      },
      "source": [
        "## Heap"
      ]
    },
    {
      "cell_type": "code",
      "metadata": {
        "id": "SNGn0lO5dUpw",
        "cell_id": "00008-eb769ffb-6052-4c0d-a6c4-9c2152aaebc2",
        "deepnote_cell_type": "code"
      },
      "source": [
        "class Heap:\n",
        "    def __init__(self):\n",
        "        self.heap = []\n",
        "\n",
        "    def insert(self, item):\n",
        "        \"\"\"Insert a new item in the heap\"\"\"\n",
        "        (self.heap).append(item)\n",
        "        self.up_heap()\n",
        "\n",
        "    def get_max(self):\n",
        "        \"\"\"\n",
        "        Return the max item in the heap\n",
        "        Assume the max item exists.\n",
        "        \"\"\"\n",
        "        return self.heap[0]\n",
        "\n",
        "    def swap(self, i, j):\n",
        "        \"\"\"Swap the items at indices i and j\"\"\"\n",
        "        self.heap[i], self.heap[j] = self.heap[j], self.heap[i]\n",
        "\n",
        "    def remove_max(self):\n",
        "        \"\"\"Remove and return the max item in the heap\"\"\"\n",
        "        self.swap(0, -1)\n",
        "        curr_max = (self.heap).pop()\n",
        "        self.heapify(0)\n",
        "        return curr_max\n",
        "\n",
        "    def get_size(self):\n",
        "        \"\"\"Return the number of items in the heap\"\"\"\n",
        "        return len(self.heap)\n",
        "\n",
        "    def is_empty(self):\n",
        "        \"\"\"Return True if the heap is empty\"\"\"\n",
        "        return len(self.heap) == 0\n",
        "\n",
        "    def heapify(self, i):\n",
        "        \"\"\"Restore max heap property starting at position i and working down recursively\"\"\"\n",
        "        left_index = (2 * i) + 1\n",
        "        right_index = (2 * i) + 2\n",
        "        max_index = i # Temporary initialization\n",
        "\n",
        "        if left_index < len(self.heap) and self.heap[left_index] > self.heap[max_index]:\n",
        "          max_index = left_index\n",
        "        if right_index < len(self.heap) and self.heap[right_index] > self.heap[max_index]:\n",
        "          max_index = right_index\n",
        "\n",
        "        if max_index is not i: # If i is not the max, heapify\n",
        "          self.swap(max_index, i)\n",
        "          self.heapify(max_index)\n",
        "        \n",
        "    def up_heap(self):\n",
        "        \"\"\"\n",
        "        Fix up relations between child and parent in order to\n",
        "        restore heap ordering\n",
        "        \"\"\"\n",
        "        curr_index = len(self.heap) - 1\n",
        "\n",
        "        while curr_index > 0:\n",
        "          parent_index = (curr_index - 1) // 2\n",
        "\n",
        "          if self.heap[curr_index] > self.heap[parent_index]:\n",
        "            self.swap(parent_index, curr_index)\n",
        "            curr_index = parent_index\n",
        "          else:\n",
        "            break\n",
        "\n",
        "    def __str__(self):\n",
        "        return str(self.heap)"
      ],
      "execution_count": null,
      "outputs": []
    },
    {
      "cell_type": "markdown",
      "metadata": {
        "tags": [],
        "cell_id": "00009-3fbd4ea9-de33-447e-9b71-c9b86c95789b",
        "deepnote_cell_type": "markdown",
        "id": "ALvVSEZm62kt"
      },
      "source": [
        "---"
      ]
    },
    {
      "cell_type": "markdown",
      "metadata": {
        "tags": [],
        "cell_id": "00010-3b775fbf-e400-483e-bb07-21fb422dfcfc",
        "deepnote_cell_type": "markdown",
        "id": "IlIBmzP862ku"
      },
      "source": [
        "## Altogether"
      ]
    },
    {
      "cell_type": "code",
      "metadata": {
        "tags": [],
        "cell_id": "00009-4c047bd7-e904-43cf-9637-9b46048d5505",
        "deepnote_cell_type": "code",
        "id": "kw0vhfZK62ku",
        "colab": {
          "base_uri": "https://localhost:8080/"
        },
        "outputId": "db4413b0-62ce-47d8-8f29-5d7598b1ba7f"
      },
      "source": [
        "class Heap:\n",
        "    def __init__(self):\n",
        "        self.heap = []\n",
        "\n",
        "    def insert(self, item):\n",
        "        \"\"\"Insert a new item in the heap\"\"\"\n",
        "        (self.heap).append(item)\n",
        "        self.up_heap()\n",
        "\n",
        "    def get_max(self):\n",
        "        \"\"\"\n",
        "        Return the max item in the heap\n",
        "        Assume the max item exists.\n",
        "        \"\"\"\n",
        "        return self.heap[0]\n",
        "\n",
        "    def swap(self, i, j):\n",
        "        \"\"\"Swap the items at indices i and j\"\"\"\n",
        "        self.heap[i], self.heap[j] = self.heap[j], self.heap[i]\n",
        "\n",
        "    def remove_max(self):\n",
        "        \"\"\"Remove and return the max item in the heap\"\"\"\n",
        "        last_index = len(self.heap) - 1\n",
        "        if last_index == 0:\n",
        "          return -1  #empty\n",
        "\n",
        "        self.swap(1, last_index)\n",
        "        max_value = self.heap.pop()\n",
        "        self.heapify(1)\n",
        "        return max_value\n",
        "        # if len(self.heap) < 0 or len(self.heap) == 0:\n",
        "        #   return None\n",
        "        # self.swap(0, -1)\n",
        "        # curr_max = (self.heap).pop()\n",
        "        # # print(curr_max)\n",
        "        # # print(self.heap[-1])\n",
        "        # self.heapify(0)\n",
        "        # return curr_max\n",
        "        # last_index = len(self.heap) - 1\n",
        "        # if last_index < 0:\n",
        "        #   return -1\n",
        "        # self.swap(0, last_index)\n",
        "        # curr_max = self.heap.pop()\n",
        "        # self.heapify(0)\n",
        "        # return curr_max\n",
        "        # if len(self.heap) > 1:\n",
        "        #   self.swap(0, -1)\n",
        "        #   self.heap.pop(-1)\n",
        "        #   self.heapify(0)\n",
        "        # else:\n",
        "        #   return None\n",
        "\n",
        "    def get_size(self):\n",
        "        \"\"\"Return the number of items in the heap\"\"\"\n",
        "        return len(self.heap)\n",
        "\n",
        "    def is_empty(self):\n",
        "        \"\"\"Return True if the heap is empty\"\"\"\n",
        "        return len(self.heap) == 0\n",
        "\n",
        "    # def heapify(self, i):\n",
        "    #     \"\"\"Restore max heap property starting at position i and working down recursively\"\"\"\n",
        "    #     left_index = (2 * i) + 1\n",
        "    #     right_index = (2 * i) + 2\n",
        "    #     max_index = i\n",
        "\n",
        "    #     if left_index < len(self.heap) and self.heap[left_index] > self.heap[i]:\n",
        "    #       max_index = left_index\n",
        "    #     if right_index < len(self.heap) and self.heap[right_index] > self.heap[i]:\n",
        "    #       max_index = right_index\n",
        "\n",
        "    #     if max_index is not i:\n",
        "    #       self.swap(max_index, i)\n",
        "    #       self.heapify(max_index)\n",
        "\n",
        "    def heapify(self, i):\n",
        "      last_index = len(self.heap) - 1\n",
        "      left_index = (2 * i) + 1\n",
        "      right_index = (2 * i) + 2\n",
        "      temp_max_index = i\n",
        "\n",
        "      if left_index <= last_index and self.heap[temp_max_index] < self.heap[left_index]:\n",
        "        temp_max_index = left_index\n",
        "      if right_index <= last_index and self.heap[temp_max_index] < self.heap[right_index]:\n",
        "        temp_max_index = right_index\n",
        "\n",
        "      if temp_max_index != i:\n",
        "        self.swap(i, temp_max_index)\n",
        "        self.heapify(temp_max_index)\n",
        "        \n",
        "    def up_heap(self):\n",
        "        \"\"\"\n",
        "        Fix up relations between child and parent in order to\n",
        "        restore heap ordering\n",
        "        \"\"\"\n",
        "        curr_index = len(self.heap) - 1\n",
        "\n",
        "        while curr_index > 0:\n",
        "          parent_index = (curr_index - 1) // 2\n",
        "\n",
        "          if self.heap[curr_index] > self.heap[parent_index]:\n",
        "            self.swap(parent_index, curr_index)\n",
        "            curr_index = parent_index\n",
        "          else:\n",
        "            break\n",
        "\n",
        "    def __str__(self):\n",
        "        return str(self.heap)\n",
        "\n",
        "class PriorityQueue:\n",
        "    def __init__(self):\n",
        "        self.queue_heap = Heap()\n",
        "\n",
        "    def insert(self, item):\n",
        "        \"\"\"Put a new item in the queue\"\"\"\n",
        "        self.queue_heap.insert(item)\n",
        "\n",
        "    def get_max(self):\n",
        "        \"\"\"Return the max item in the queue\"\"\"\n",
        "        return self.queue_heap.get_max()\n",
        "\n",
        "    def remove_max(self):\n",
        "        \"\"\"Return and remove the max item from the queue\"\"\"\n",
        "        return self.queue_heap.remove_max()\n",
        "\n",
        "    def get_size(self):\n",
        "        \"\"\"Return the size\"\"\"\n",
        "        return self.queue_heap.get_size()\n",
        "\n",
        "    def is_empty(self):\n",
        "        \"\"\"Return true if the queue is empty\"\"\"\n",
        "        return self.queue_heap.is_empty()\n",
        "\n",
        "    def __str__(self):\n",
        "        return self.queue_heap.__str__()\n",
        "\n",
        "my_pq = PriorityQueue()\n",
        "my_pq.insert(100)\n",
        "# print(my_pq)\n",
        "my_pq.insert(10)\n",
        "# print(my_pq)\n",
        "my_pq.insert(40)\n",
        "# print(my_pq)\n",
        "my_pq.insert(3000)\n",
        "# print(my_pq)\n",
        "my_pq.insert(30)\n",
        "# print(my_pq)\n",
        "my_pq.insert(50)\n",
        "# print(my_pq)\n",
        "print(my_pq.get_max())\n",
        "print(my_pq)\n",
        "print(\"====\")\n",
        "print(my_pq.remove_max())\n",
        "print(my_pq)\n",
        "print(my_pq.remove_max())\n",
        "print(my_pq)\n",
        "print(my_pq.remove_max())\n",
        "print(my_pq)"
      ],
      "execution_count": null,
      "outputs": [
        {
          "output_type": "stream",
          "text": [
            "3000\n",
            "[3000, 100, 50, 10, 30, 40]\n",
            "====\n",
            "100\n",
            "[3000, 40, 50, 10, 30]\n",
            "40\n",
            "[3000, 30, 50, 10]\n",
            "30\n",
            "[3000, 10, 50]\n"
          ],
          "name": "stdout"
        }
      ]
    },
    {
      "cell_type": "markdown",
      "metadata": {
        "tags": [],
        "cell_id": "00009-27bcabfc-c5ab-4124-bc64-4754f2cf3415",
        "deepnote_cell_type": "markdown",
        "id": "QZSXsxLL62kx"
      },
      "source": [
        "---"
      ]
    },
    {
      "cell_type": "markdown",
      "metadata": {
        "id": "PafeVhR_UHdz",
        "cell_id": "00009-f816a621-f6f4-47b1-8737-129dee1454d5",
        "deepnote_cell_type": "markdown"
      },
      "source": [
        "## Resources:\n",
        "* Problem Solving with Algorithms and Data Structures using Python\n",
        "    * 7.8. Priority Queues with Binary Heaps: https://runestone.academy/runestone/books/published/pythonds/Trees/PriorityQueueswithBinaryHeaps.html\n",
        "    * 7.9. Binary Heap Operations: https://runestone.academy/runestone/books/published/pythonds/Trees/BinaryHeapOperations.html\n",
        "    * 7.10. Binary Heap Implementation: https://runestone.academy/runestone/books/published/pythonds/Trees/BinaryHeapImplementation.html\n",
        "* Difference between Binary Heap, Binomial Heap and Fibonacci Heap: https://www.geeksforgeeks.org/difference-between-binary-heap-binomial-heap-and-fibonacci-heap/\n",
        "* Heap Data Structure on GeeksforGeeks: https://www.geeksforgeeks.org/heap-data-structure/\n",
        "* Heap Data Structure on Programiz: https://www.programiz.com/dsa/heap-data-structure\n",
        "* Heap interview questions on Fullstack Cafe: https://www.fullstack.cafe/blog/heap-interview-questions"
      ]
    }
  ]
}