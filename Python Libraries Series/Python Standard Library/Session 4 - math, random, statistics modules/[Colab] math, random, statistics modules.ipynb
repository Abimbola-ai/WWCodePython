{
  "nbformat": 4,
  "nbformat_minor": 0,
  "metadata": {
    "colab": {
      "name": "Session #4: Python Standard Library: Mathematical Computations",
      "provenance": [],
      "collapsed_sections": []
    },
    "kernelspec": {
      "name": "python3",
      "display_name": "Python 3"
    },
    "language_info": {
      "name": "python"
    }
  },
  "cells": [
    {
      "cell_type": "markdown",
      "metadata": {
        "id": "NbreNcqX8BEv"
      },
      "source": [
        "# Python Libraries 101\n",
        "\n",
        "## Session #4: Mathematical Computations"
      ]
    },
    {
      "cell_type": "markdown",
      "metadata": {
        "id": "-hu7bxJx8Zn_"
      },
      "source": [
        "## List of Topics:\n",
        "  1. random\n",
        "  2. math\n",
        "  3. statistics"
      ]
    },
    {
      "cell_type": "markdown",
      "metadata": {
        "id": "vgbevLxl8-74"
      },
      "source": [
        "-----------------------------------\n",
        "-----------------------------------"
      ]
    },
    {
      "cell_type": "markdown",
      "metadata": {
        "id": "0kJTKRkb1Muy"
      },
      "source": [
        ""
      ]
    },
    {
      "cell_type": "markdown",
      "metadata": {
        "id": "lRzaOgKg9IQw"
      },
      "source": [
        "## random module"
      ]
    },
    {
      "cell_type": "code",
      "metadata": {
        "id": "UghN4LDM9L1v"
      },
      "source": [
        "import random  # we don't need to install it separately"
      ],
      "execution_count": 3,
      "outputs": []
    },
    {
      "cell_type": "markdown",
      "metadata": {
        "id": "vzzDjmezbCW_"
      },
      "source": [
        "### Functions"
      ]
    },
    {
      "cell_type": "markdown",
      "metadata": {
        "id": "1DXW2Dnx-1_z"
      },
      "source": [
        "random.seed(), random.randint(), random.randrange()"
      ]
    },
    {
      "cell_type": "code",
      "metadata": {
        "colab": {
          "base_uri": "https://localhost:8080/"
        },
        "id": "Jcp_eOjR-aYT",
        "outputId": "efa58de7-86ab-4194-beb7-cb5ee15b3704"
      },
      "source": [
        "random.seed(1) # initialises the random number generator, causing the same number to be generated \n",
        "print(random.randint(0,10))"
      ],
      "execution_count": 20,
      "outputs": [
        {
          "output_type": "stream",
          "text": [
            "0\n"
          ],
          "name": "stdout"
        }
      ]
    },
    {
      "cell_type": "code",
      "metadata": {
        "id": "nVl0-z4q9Lnm",
        "colab": {
          "base_uri": "https://localhost:8080/"
        },
        "outputId": "c70eba0b-5cec-488f-d368-c01bfb00ebe6"
      },
      "source": [
        "random.randrange(0,20) # returns a random number between the given range, includes starting term, excludes last term"
      ],
      "execution_count": 25,
      "outputs": [
        {
          "output_type": "execute_result",
          "data": {
            "text/plain": [
              "15"
            ]
          },
          "metadata": {
            "tags": []
          },
          "execution_count": 25
        }
      ]
    },
    {
      "cell_type": "code",
      "metadata": {
        "colab": {
          "base_uri": "https://localhost:8080/"
        },
        "id": "PSXfYZ1-7ZAf",
        "outputId": "a6f2ff59-bece-4a8e-81ec-a24cc8ff58a3"
      },
      "source": [
        "random.randrange(0,10,2) \n",
        "# returns a random number between the given range, \n",
        "# includes starting term, excludes last term, divisible by step term"
      ],
      "execution_count": 26,
      "outputs": [
        {
          "output_type": "execute_result",
          "data": {
            "text/plain": [
              "6"
            ]
          },
          "metadata": {
            "tags": []
          },
          "execution_count": 26
        }
      ]
    },
    {
      "cell_type": "code",
      "metadata": {
        "id": "p2CnzMAu9Plo",
        "colab": {
          "base_uri": "https://localhost:8080/"
        },
        "outputId": "246e1e41-e7e8-4413-ec7a-f743f8fa0e2e"
      },
      "source": [
        "random.randint(0,10) # returns a random number between the given range, includes starting term and last term"
      ],
      "execution_count": null,
      "outputs": [
        {
          "output_type": "execute_result",
          "data": {
            "text/plain": [
              "0"
            ]
          },
          "metadata": {
            "tags": []
          },
          "execution_count": 7
        }
      ]
    },
    {
      "cell_type": "markdown",
      "metadata": {
        "id": "FNK0ToQs63ox"
      },
      "source": [
        "Generate 3 random integers between 100 and 999 (does not include endpoints) which is divisible by 5"
      ]
    },
    {
      "cell_type": "code",
      "metadata": {
        "colab": {
          "base_uri": "https://localhost:8080/"
        },
        "id": "ZCcJhedD8NC3",
        "outputId": "084c18a1-0bdf-42be-8ae9-c8a079675b51"
      },
      "source": [
        "for i in range (3):\n",
        "  print(#write code here)"
      ],
      "execution_count": 7,
      "outputs": [
        {
          "output_type": "stream",
          "text": [
            "876\n",
            "346\n",
            "396\n"
          ],
          "name": "stdout"
        }
      ]
    },
    {
      "cell_type": "markdown",
      "metadata": {
        "id": "jueCse2z-_Eh"
      },
      "source": [
        "random.choice(), random.shuffle()"
      ]
    },
    {
      "cell_type": "code",
      "metadata": {
        "id": "V521yWJobUKr"
      },
      "source": [
        "random.choice(\"hello world\")"
      ],
      "execution_count": null,
      "outputs": []
    },
    {
      "cell_type": "code",
      "metadata": {
        "id": "m_zhNYTY_FEo"
      },
      "source": [
        "lst=['a','b','c','d','e','f']\n",
        "random.shuffle(lst)\n",
        "print(lst)"
      ],
      "execution_count": null,
      "outputs": []
    },
    {
      "cell_type": "markdown",
      "metadata": {
        "id": "OTAgXRP5859i"
      },
      "source": [
        "Shuffle the list of names then pick a random name from the list"
      ]
    },
    {
      "cell_type": "code",
      "metadata": {
        "id": "bB7cb1PGbV7C"
      },
      "source": [
        "list_of_names=['Soumya','Karen','Shermaine','Mary','Amber','Stephanie','Archana']\n",
        "#write code here"
      ],
      "execution_count": null,
      "outputs": []
    },
    {
      "cell_type": "markdown",
      "metadata": {
        "id": "mmLvySVF_g4T"
      },
      "source": [
        "Roll the dice 5 times, but in a way that every time you roll, you get the same number"
      ]
    },
    {
      "cell_type": "code",
      "metadata": {
        "id": "_t-VtBUbbYGS"
      },
      "source": [
        "dice = [1,2,3,4,5,6]\n",
        "print(\"Randomly selecting the same number of a dice\")\n",
        "for i in range(5):\n",
        "  #write code here"
      ],
      "execution_count": null,
      "outputs": []
    },
    {
      "cell_type": "markdown",
      "metadata": {
        "id": "kWZ3cu7ZL51y"
      },
      "source": [
        "random.random(), random.uniform()"
      ]
    },
    {
      "cell_type": "code",
      "metadata": {
        "id": "xG5xyYuYL9U0"
      },
      "source": [
        "random.random() # returns a random float number between 0 and 1"
      ],
      "execution_count": null,
      "outputs": []
    },
    {
      "cell_type": "code",
      "metadata": {
        "id": "aoKFThBcMHLQ"
      },
      "source": [
        "random.uniform(2,5) # returns a random float number between two given parameters"
      ],
      "execution_count": null,
      "outputs": []
    },
    {
      "cell_type": "markdown",
      "metadata": {
        "id": "ePJDbAzCMjcB"
      },
      "source": [
        "Calculate multiplication of two random float numbers"
      ]
    },
    {
      "cell_type": "code",
      "metadata": {
        "id": "vCbgxpaoMkeW"
      },
      "source": [
        "num1 = \n",
        "num2 =\n",
        "print(num1*num2)"
      ],
      "execution_count": null,
      "outputs": []
    },
    {
      "cell_type": "markdown",
      "metadata": {
        "id": "DtXo9XK39P6q"
      },
      "source": [
        "--------------------------"
      ]
    },
    {
      "cell_type": "markdown",
      "metadata": {
        "id": "n8zUcgW-9MpG"
      },
      "source": [
        "## math module"
      ]
    },
    {
      "cell_type": "code",
      "metadata": {
        "id": "Bie8JRMn9c-Q"
      },
      "source": [
        "import math"
      ],
      "execution_count": 1,
      "outputs": []
    },
    {
      "cell_type": "markdown",
      "metadata": {
        "id": "r9IYK5Nnd1Dy"
      },
      "source": [
        "### Functions"
      ]
    },
    {
      "cell_type": "markdown",
      "metadata": {
        "id": "-Lwwn5n8rKoa"
      },
      "source": [
        "Conversion between radians and degree"
      ]
    },
    {
      "cell_type": "code",
      "metadata": {
        "id": "Ygm_OlGT9c0F",
        "colab": {
          "base_uri": "https://localhost:8080/"
        },
        "outputId": "9dad130d-8da6-4c98-f1e5-2a91e4865aed"
      },
      "source": [
        "math.degrees(3.141592653589793) # converts radians to degree"
      ],
      "execution_count": 6,
      "outputs": [
        {
          "output_type": "execute_result",
          "data": {
            "text/plain": [
              "180.0"
            ]
          },
          "metadata": {
            "tags": []
          },
          "execution_count": 6
        }
      ]
    },
    {
      "cell_type": "code",
      "metadata": {
        "id": "Feh4IZLC9cpI",
        "colab": {
          "base_uri": "https://localhost:8080/"
        },
        "outputId": "4edb533d-c8ac-46df-c128-e5f7d39fd266"
      },
      "source": [
        "math.radians(180) # converts degree to radians"
      ],
      "execution_count": 5,
      "outputs": [
        {
          "output_type": "execute_result",
          "data": {
            "text/plain": [
              "3.141592653589793"
            ]
          },
          "metadata": {
            "tags": []
          },
          "execution_count": 5
        }
      ]
    },
    {
      "cell_type": "markdown",
      "metadata": {
        "id": "aAg-cNt0uPFe"
      },
      "source": [
        "Rounding off"
      ]
    },
    {
      "cell_type": "code",
      "metadata": {
        "id": "C2AhamCUePvx",
        "colab": {
          "base_uri": "https://localhost:8080/"
        },
        "outputId": "f88f7102-9d38-43c4-fbbf-21779019e4cb"
      },
      "source": [
        "math.ceil(0.8) # rounds a number up to the nearest integer"
      ],
      "execution_count": 7,
      "outputs": [
        {
          "output_type": "execute_result",
          "data": {
            "text/plain": [
              "1"
            ]
          },
          "metadata": {
            "tags": []
          },
          "execution_count": 7
        }
      ]
    },
    {
      "cell_type": "code",
      "metadata": {
        "colab": {
          "base_uri": "https://localhost:8080/"
        },
        "id": "-_WSNd6oufjG",
        "outputId": "9c127c12-5941-4821-ef94-71a0acdbd82d"
      },
      "source": [
        "math.floor(2.8) # rounds a number down to the nearest integer"
      ],
      "execution_count": 9,
      "outputs": [
        {
          "output_type": "execute_result",
          "data": {
            "text/plain": [
              "2"
            ]
          },
          "metadata": {
            "tags": []
          },
          "execution_count": 9
        }
      ]
    },
    {
      "cell_type": "markdown",
      "metadata": {
        "id": "lBPQHlm0vkIl"
      },
      "source": [
        "Math Operators"
      ]
    },
    {
      "cell_type": "code",
      "metadata": {
        "colab": {
          "base_uri": "https://localhost:8080/"
        },
        "id": "8Y0xgaFcvD6U",
        "outputId": "1dc29974-1c07-44fc-a3ff-a01bf057413c"
      },
      "source": [
        "math.fmod(3,2) # returns the remainder of first number/second number"
      ],
      "execution_count": 15,
      "outputs": [
        {
          "output_type": "execute_result",
          "data": {
            "text/plain": [
              "1.0"
            ]
          },
          "metadata": {
            "tags": []
          },
          "execution_count": 15
        }
      ]
    },
    {
      "cell_type": "code",
      "metadata": {
        "colab": {
          "base_uri": "https://localhost:8080/"
        },
        "id": "xMFsK_k5vpFB",
        "outputId": "c540914e-535c-4015-a756-1321c4d1db86"
      },
      "source": [
        "lst=[4,3,2,7]\n",
        "math.fsum(lst) # returns the sum of all items in any iterable "
      ],
      "execution_count": 16,
      "outputs": [
        {
          "output_type": "execute_result",
          "data": {
            "text/plain": [
              "16.0"
            ]
          },
          "metadata": {
            "tags": []
          },
          "execution_count": 16
        }
      ]
    },
    {
      "cell_type": "code",
      "metadata": {
        "colab": {
          "base_uri": "https://localhost:8080/"
        },
        "id": "ecdGd9Bgv23t",
        "outputId": "52ed4404-0f46-4450-cf85-b5ac064282d9"
      },
      "source": [
        "math.trunc(123123.123) # returns the truncated integer parts of a number"
      ],
      "execution_count": 17,
      "outputs": [
        {
          "output_type": "execute_result",
          "data": {
            "text/plain": [
              "123123"
            ]
          },
          "metadata": {
            "tags": []
          },
          "execution_count": 17
        }
      ]
    },
    {
      "cell_type": "code",
      "metadata": {
        "colab": {
          "base_uri": "https://localhost:8080/"
        },
        "id": "Vxw_Sve4v3Tp",
        "outputId": "95710cc5-16fe-4db6-e4e7-6eba7e32cdd3"
      },
      "source": [
        "math.exp(2) # returns e raised to the power of x"
      ],
      "execution_count": 18,
      "outputs": [
        {
          "output_type": "execute_result",
          "data": {
            "text/plain": [
              "7.38905609893065"
            ]
          },
          "metadata": {
            "tags": []
          },
          "execution_count": 18
        }
      ]
    },
    {
      "cell_type": "code",
      "metadata": {
        "colab": {
          "base_uri": "https://localhost:8080/"
        },
        "id": "Y7ZRVK6Uv51x",
        "outputId": "c1c39a60-10d5-42d0-93c6-84078102ca98"
      },
      "source": [
        "math.fabs(-123) # returns the absolute value of a number"
      ],
      "execution_count": 19,
      "outputs": [
        {
          "output_type": "execute_result",
          "data": {
            "text/plain": [
              "123.0"
            ]
          },
          "metadata": {
            "tags": []
          },
          "execution_count": 19
        }
      ]
    },
    {
      "cell_type": "code",
      "metadata": {
        "colab": {
          "base_uri": "https://localhost:8080/"
        },
        "id": "7V0GV_gBv634",
        "outputId": "052f0134-56b4-45d0-c812-70aaa8463e93"
      },
      "source": [
        "math.factorial(5) # returns the factorial of a number"
      ],
      "execution_count": 20,
      "outputs": [
        {
          "output_type": "execute_result",
          "data": {
            "text/plain": [
              "120"
            ]
          },
          "metadata": {
            "tags": []
          },
          "execution_count": 20
        }
      ]
    },
    {
      "cell_type": "markdown",
      "metadata": {
        "id": "BsH87vJl9eNz"
      },
      "source": [
        "------------------------------"
      ]
    },
    {
      "cell_type": "markdown",
      "metadata": {
        "id": "wRIsufAcjxIL"
      },
      "source": [
        "## statistics module"
      ]
    },
    {
      "cell_type": "code",
      "metadata": {
        "id": "Y8B63Y-Uj0c6"
      },
      "source": [
        "import statistics"
      ],
      "execution_count": 21,
      "outputs": []
    },
    {
      "cell_type": "markdown",
      "metadata": {
        "id": "iQZelRCaj6Tl"
      },
      "source": [
        "### Functions"
      ]
    },
    {
      "cell_type": "code",
      "metadata": {
        "id": "-5qihr6I0sRT"
      },
      "source": [
        "lst=[1,23,5,6,7,100,8,34,100,123]"
      ],
      "execution_count": 35,
      "outputs": []
    },
    {
      "cell_type": "code",
      "metadata": {
        "colab": {
          "base_uri": "https://localhost:8080/"
        },
        "id": "5HpZs0c8kR56",
        "outputId": "f4608181-cc8a-469b-a2e0-ca6fcb355fc2"
      },
      "source": [
        "statistics.mean(lst) # calculates the mean (average) of the given data"
      ],
      "execution_count": 36,
      "outputs": [
        {
          "output_type": "execute_result",
          "data": {
            "text/plain": [
              "40.7"
            ]
          },
          "metadata": {
            "tags": []
          },
          "execution_count": 36
        }
      ]
    },
    {
      "cell_type": "code",
      "metadata": {
        "colab": {
          "base_uri": "https://localhost:8080/"
        },
        "id": "z59Zi1Lm0mvM",
        "outputId": "b94436ed-eb52-4565-bb93-19952e05d811"
      },
      "source": [
        "statistics.median(lst) # calculates the median (middle value) of the given data"
      ],
      "execution_count": 37,
      "outputs": [
        {
          "output_type": "execute_result",
          "data": {
            "text/plain": [
              "15.5"
            ]
          },
          "metadata": {
            "tags": []
          },
          "execution_count": 37
        }
      ]
    },
    {
      "cell_type": "code",
      "metadata": {
        "colab": {
          "base_uri": "https://localhost:8080/"
        },
        "id": "IpQTxx_k0o4q",
        "outputId": "a0363560-ae37-4c37-9ca9-d5739b7751d1"
      },
      "source": [
        "statistics.median_high(lst) # calculates the high median of the given data"
      ],
      "execution_count": 38,
      "outputs": [
        {
          "output_type": "execute_result",
          "data": {
            "text/plain": [
              "23"
            ]
          },
          "metadata": {
            "tags": []
          },
          "execution_count": 38
        }
      ]
    },
    {
      "cell_type": "code",
      "metadata": {
        "colab": {
          "base_uri": "https://localhost:8080/"
        },
        "id": "6nuAlcZEkWzu",
        "outputId": "48be7047-b9d0-430f-a027-afcbc46e9507"
      },
      "source": [
        "statistics.median_low(lst) # calculates the low median of the given data"
      ],
      "execution_count": 39,
      "outputs": [
        {
          "output_type": "execute_result",
          "data": {
            "text/plain": [
              "8"
            ]
          },
          "metadata": {
            "tags": []
          },
          "execution_count": 39
        }
      ]
    },
    {
      "cell_type": "code",
      "metadata": {
        "colab": {
          "base_uri": "https://localhost:8080/"
        },
        "id": "zYW4JRku0yit",
        "outputId": "c7728876-b58f-4efd-ba4a-7801430e232d"
      },
      "source": [
        "statistics.mode(lst) # calculates the mode (central tendency) of the given numeric or nominal data"
      ],
      "execution_count": 40,
      "outputs": [
        {
          "output_type": "execute_result",
          "data": {
            "text/plain": [
              "100"
            ]
          },
          "metadata": {
            "tags": []
          },
          "execution_count": 40
        }
      ]
    },
    {
      "cell_type": "code",
      "metadata": {
        "colab": {
          "base_uri": "https://localhost:8080/"
        },
        "id": "ZEOkmfiA01yS",
        "outputId": "d0d7be6d-3df0-43dc-8d81-7ddfb8a4963b"
      },
      "source": [
        "statistics.stdev(lst) # calculates the standard deviation from a sample of data"
      ],
      "execution_count": 42,
      "outputs": [
        {
          "output_type": "execute_result",
          "data": {
            "text/plain": [
              "47.6376368478165"
            ]
          },
          "metadata": {
            "tags": []
          },
          "execution_count": 42
        }
      ]
    },
    {
      "cell_type": "code",
      "metadata": {
        "colab": {
          "base_uri": "https://localhost:8080/"
        },
        "id": "wfcNd2FR0_ii",
        "outputId": "342f4e43-035a-4a6b-ab07-536d73ca05d7"
      },
      "source": [
        "statistics.variance(lst) # calculates the variance from a sample of data"
      ],
      "execution_count": 43,
      "outputs": [
        {
          "output_type": "execute_result",
          "data": {
            "text/plain": [
              "2269.3444444444444"
            ]
          },
          "metadata": {
            "tags": []
          },
          "execution_count": 43
        }
      ]
    }
  ]
}