{
  "nbformat": 4,
  "nbformat_minor": 0,
  "metadata": {
    "colab": {
      "name": "Session #7: Data Visualization: Matplotlib, Seaborn, Plotly",
      "provenance": [],
      "collapsed_sections": []
    },
    "kernelspec": {
      "name": "python3",
      "display_name": "Python 3"
    },
    "language_info": {
      "name": "python"
    }
  },
  "cells": [
    {
      "cell_type": "markdown",
      "metadata": {
        "id": "NbreNcqX8BEv"
      },
      "source": [
        "# Python Libraries 101\n",
        "\n",
        "## Session #7: Data Visualization: Matplotlib, Seaborn, Plotly"
      ]
    },
    {
      "cell_type": "markdown",
      "metadata": {
        "id": "-hu7bxJx8Zn_"
      },
      "source": [
        "## List of Topics:\n",
        "  1. Matplotlib\n",
        "  2. Seaborn \n",
        "  3. Plotly"
      ]
    },
    {
      "cell_type": "markdown",
      "metadata": {
        "id": "vgbevLxl8-74"
      },
      "source": [
        "-----------------------------------\n"
      ]
    },
    {
      "cell_type": "markdown",
      "metadata": {
        "id": "lRzaOgKg9IQw"
      },
      "source": [
        "## Matplotlib\n"
      ]
    },
    {
      "cell_type": "code",
      "metadata": {
        "id": "UghN4LDM9L1v"
      },
      "source": [
        "import matplotlib.pyplot as plt # import library\n",
        "\n",
        "list1 = [1,4,5,6,7,9]\n",
        "list2 = [9,4,2,1,5,2]"
      ],
      "execution_count": null,
      "outputs": []
    },
    {
      "cell_type": "code",
      "metadata": {
        "id": "nVl0-z4q9Lnm",
        "colab": {
          "base_uri": "https://localhost:8080/",
          "height": 299
        },
        "outputId": "c11427fe-be4c-419f-ab0f-84a08e86ad1a"
      },
      "source": [
        "# plot a line graph with list1 and name the graph as \"Line Graph\"\n",
        "plt.plot(list2)\n",
        "plt.title('Line Graph')"
      ],
      "execution_count": null,
      "outputs": [
        {
          "output_type": "execute_result",
          "data": {
            "text/plain": [
              "Text(0.5, 1.0, 'Line Graph')"
            ]
          },
          "metadata": {},
          "execution_count": 4
        },
        {
          "output_type": "display_data",
          "data": {
            "image/png": "[encoded data removed]",
            "text/plain": [
              "<Figure size 432x288 with 1 Axes>"
            ]
          },
          "metadata": {
            "needs_background": "light"
          }
        }
      ]
    },
    {
      "cell_type": "code",
      "metadata": {
        "id": "p2CnzMAu9Plo",
        "colab": {
          "base_uri": "https://localhost:8080/",
          "height": 299
        },
        "outputId": "50874b06-4770-483b-dc07-f6d0ca7f92c5"
      },
      "source": [
        "# plot list2 with dot graph (red star), label the point as red star and name the graph as 'Dotted Graph'\n",
        "plt.plot(list2, 'r*', label='red star')\n",
        "plt.legend(loc='best')\n",
        "plt.title('Dotted Graph')"
      ],
      "execution_count": null,
      "outputs": [
        {
          "output_type": "execute_result",
          "data": {
            "text/plain": [
              "Text(0.5, 1.0, 'Dotted Graph')"
            ]
          },
          "metadata": {},
          "execution_count": 5
        },
        {
          "output_type": "display_data",
          "data": {
            "image/png": "[encoded data removed]",
            "text/plain": [
              "<Figure size 432x288 with 1 Axes>"
            ]
          },
          "metadata": {
            "needs_background": "light"
          }
        }
      ]
    },
    {
      "cell_type": "code",
      "metadata": {
        "id": "FElCEHvjXhFk",
        "colab": {
          "base_uri": "https://localhost:8080/",
          "height": 297
        },
        "outputId": "1f92a1c4-897b-4d99-c005-b8e69291a5e2"
      },
      "source": [
        "# scatterplot using the data below - x-axis as 'a' , y-axis as 'b' and color as 's'\n",
        "# add labels\n",
        "import numpy as np\n",
        "data = {'a': np.arange(20),\n",
        "        'b': np.random.rand(20),\n",
        "        's': np.random.randn(20)}\n",
        "\n",
        "plt.scatter('a', 'b', c='s',data=data)\n",
        "plt.xlabel('x')\n",
        "plt.ylabel('y')"
      ],
      "execution_count": null,
      "outputs": [
        {
          "output_type": "execute_result",
          "data": {
            "text/plain": [
              "Text(0, 0.5, 'y')"
            ]
          },
          "metadata": {},
          "execution_count": 13
        },
        {
          "output_type": "display_data",
          "data": {
            "image/png": "[encoded data removed]",
            "text/plain": [
              "<Figure size 432x288 with 1 Axes>"
            ]
          },
          "metadata": {
            "needs_background": "light"
          }
        }
      ]
    },
    {
      "cell_type": "markdown",
      "metadata": {
        "id": "DtXo9XK39P6q"
      },
      "source": [
        "--------------------------"
      ]
    },
    {
      "cell_type": "markdown",
      "metadata": {
        "id": "n8zUcgW-9MpG"
      },
      "source": [
        "## Seaborn"
      ]
    },
    {
      "cell_type": "code",
      "metadata": {
        "id": "Bie8JRMn9c-Q"
      },
      "source": [
        "import seaborn as sns"
      ],
      "execution_count": null,
      "outputs": []
    },
    {
      "cell_type": "code",
      "metadata": {
        "colab": {
          "base_uri": "https://localhost:8080/"
        },
        "id": "4bvDZIk7Xz_S",
        "outputId": "470f14b2-d63b-4864-cf4c-6510974e9733"
      },
      "source": [
        "print(sns.get_dataset_names())"
      ],
      "execution_count": null,
      "outputs": [
        {
          "output_type": "stream",
          "name": "stdout",
          "text": [
            "['anagrams', 'anscombe', 'attention', 'brain_networks', 'car_crashes', 'diamonds', 'dots', 'exercise', 'flights', 'fmri', 'gammas', 'geyser', 'iris', 'mpg', 'penguins', 'planets', 'tips', 'titanic']\n"
          ]
        }
      ]
    },
    {
      "cell_type": "code",
      "metadata": {
        "id": "Ygm_OlGT9c0F",
        "colab": {
          "base_uri": "https://localhost:8080/"
        },
        "outputId": "47604e4a-1b4f-478b-bd40-c5cd94a7adeb"
      },
      "source": [
        "# use sample dataset from seaborn \"iris\" and view its data\n",
        "data = sns.load_dataset('iris')\n",
        "print(data)"
      ],
      "execution_count": null,
      "outputs": [
        {
          "output_type": "stream",
          "name": "stdout",
          "text": [
            "     sepal_length  sepal_width  petal_length  petal_width    species\n",
            "0             5.1          3.5           1.4          0.2     setosa\n",
            "1             4.9          3.0           1.4          0.2     setosa\n",
            "2             4.7          3.2           1.3          0.2     setosa\n",
            "3             4.6          3.1           1.5          0.2     setosa\n",
            "4             5.0          3.6           1.4          0.2     setosa\n",
            "..            ...          ...           ...          ...        ...\n",
            "145           6.7          3.0           5.2          2.3  virginica\n",
            "146           6.3          2.5           5.0          1.9  virginica\n",
            "147           6.5          3.0           5.2          2.0  virginica\n",
            "148           6.2          3.4           5.4          2.3  virginica\n",
            "149           5.9          3.0           5.1          1.8  virginica\n",
            "\n",
            "[150 rows x 5 columns]\n"
          ]
        }
      ]
    },
    {
      "cell_type": "code",
      "metadata": {
        "id": "Feh4IZLC9cpI"
      },
      "source": [
        "# draw a scatterplot to see the relationship between sepal width and petal width\n",
        "# x-axis = sepal_width and y = petal_width\n",
        "sns.relplot('sepal_width', 'petal_width', data=data);"
      ],
      "execution_count": null,
      "outputs": []
    },
    {
      "cell_type": "code",
      "metadata": {
        "id": "oJT2B-IhTU5b",
        "colab": {
          "base_uri": "https://localhost:8080/",
          "height": 269
        },
        "outputId": "6f371387-777a-4bd6-f815-10de681f599d"
      },
      "source": [
        "# plot a heatmap\n",
        "uniform_data = np.random.rand(7, 9) # get some data\n",
        "ax = sns.heatmap(uniform_data, vmin=0, vmax=1) "
      ],
      "execution_count": null,
      "outputs": [
        {
          "output_type": "display_data",
          "data": {
            "image/png": "[encoded data removed]",
            "text/plain": [
              "<Figure size 432x288 with 2 Axes>"
            ]
          },
          "metadata": {
            "needs_background": "light"
          }
        }
      ]
    },
    {
      "cell_type": "markdown",
      "metadata": {
        "id": "BsH87vJl9eNz"
      },
      "source": [
        "------------------------------"
      ]
    },
    {
      "cell_type": "markdown",
      "metadata": {
        "id": "N6ePnWCM9f0Y"
      },
      "source": [
        "## Plotly"
      ]
    },
    {
      "cell_type": "code",
      "metadata": {
        "id": "bgTUd34N9oLX"
      },
      "source": [
        "import plotly.express as px"
      ],
      "execution_count": null,
      "outputs": []
    },
    {
      "cell_type": "code",
      "metadata": {
        "id": "zeo7zbq-Z5ZG"
      },
      "source": [
        "for i in dir(px.data):\n",
        "  print(i)"
      ],
      "execution_count": null,
      "outputs": []
    },
    {
      "cell_type": "code",
      "metadata": {
        "colab": {
          "base_uri": "https://localhost:8080/"
        },
        "id": "FZ3yUF8nalEi",
        "outputId": "8bbd4ddd-6553-4f50-9996-c63fbfef1c7a"
      },
      "source": [
        "print(px.data.tips())"
      ],
      "execution_count": null,
      "outputs": [
        {
          "output_type": "stream",
          "name": "stdout",
          "text": [
            "     total_bill   tip     sex smoker   day    time  size\n",
            "0         16.99  1.01  Female     No   Sun  Dinner     2\n",
            "1         10.34  1.66    Male     No   Sun  Dinner     3\n",
            "2         21.01  3.50    Male     No   Sun  Dinner     3\n",
            "3         23.68  3.31    Male     No   Sun  Dinner     2\n",
            "4         24.59  3.61  Female     No   Sun  Dinner     4\n",
            "..          ...   ...     ...    ...   ...     ...   ...\n",
            "239       29.03  5.92    Male     No   Sat  Dinner     3\n",
            "240       27.18  2.00  Female    Yes   Sat  Dinner     2\n",
            "241       22.67  2.00    Male    Yes   Sat  Dinner     2\n",
            "242       17.82  1.75    Male     No   Sat  Dinner     2\n",
            "243       18.78  3.00  Female     No  Thur  Dinner     2\n",
            "\n",
            "[244 rows x 7 columns]\n"
          ]
        }
      ]
    },
    {
      "cell_type": "code",
      "metadata": {
        "id": "TWRNVmMgYzhW"
      },
      "source": [
        "# use tips data from plotly to draw a bar chart with below settings:\n",
        "# x-axis = 'day', y-axis = 'tip', color = 'smoker', set group as barmode\n",
        "data = px.data.tips()\n",
        "fig = px.bar(data,'day', 'tip', color='smoker', barmode='group')\n",
        "fig.show()"
      ],
      "execution_count": null,
      "outputs": []
    },
    {
      "cell_type": "code",
      "metadata": {
        "id": "9l5xK5Unelv1"
      },
      "source": [
        "# use iris data to make a scatterplot showing relationship between sepal length and sepal width\n",
        "data = px.data.iris()\n",
        "fig = px.scatter(data, x=\"sepal_width\", y=\"sepal_length\", color=\"species\",\n",
        "                 size='petal_length', hover_data=['petal_width'])\n",
        "fig.show()"
      ],
      "execution_count": null,
      "outputs": []
    }
  ]
}